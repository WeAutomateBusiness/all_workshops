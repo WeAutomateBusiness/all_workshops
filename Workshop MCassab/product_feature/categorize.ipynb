{
  "cells": [
    {
      "cell_type": "markdown",
      "metadata": {
        "id": "RBY41st6eCyk"
      },
      "source": [
        "## Enviroment Setup"
      ]
    },
    {
      "cell_type": "markdown",
      "source": [
        "❗ Antes de iniciar, no menu arquivos faça o upload dos arquivos \"examples.csv\" e da classe Products no script \"product_model.py\" que foi disponibilizado pelo mediador do Workshop.\n",
        "\n",
        "\n",
        "❗ No menu Secrets, crie a secret \"OPENAI_API_KEY\" fornecida pela mediador."
      ],
      "metadata": {
        "id": "6JuFVaKchQC_"
      }
    },
    {
      "cell_type": "code",
      "source": [
        "!pip install langchain chromadb openai python-dotenv pandas numpy langchain_chroma langchain_openai"
      ],
      "metadata": {
        "colab": {
          "base_uri": "https://localhost:8080/"
        },
        "id": "j-orqiQ3ebvD",
        "outputId": "921f4cf5-9fb4-4300-d8a3-18959dd63fa6"
      },
      "execution_count": 2,
      "outputs": [
        {
          "output_type": "stream",
          "name": "stdout",
          "text": [
            "Requirement already satisfied: langchain in /usr/local/lib/python3.11/dist-packages (0.3.26)\n",
            "Requirement already satisfied: chromadb in /usr/local/lib/python3.11/dist-packages (1.0.13)\n",
            "Requirement already satisfied: openai in /usr/local/lib/python3.11/dist-packages (1.91.0)\n",
            "Requirement already satisfied: python-dotenv in /usr/local/lib/python3.11/dist-packages (1.1.1)\n",
            "Requirement already satisfied: pandas in /usr/local/lib/python3.11/dist-packages (2.2.2)\n",
            "Requirement already satisfied: numpy in /usr/local/lib/python3.11/dist-packages (2.0.2)\n",
            "Requirement already satisfied: langchain_chroma in /usr/local/lib/python3.11/dist-packages (0.2.4)\n",
            "Requirement already satisfied: langchain_openai in /usr/local/lib/python3.11/dist-packages (0.3.27)\n",
            "Requirement already satisfied: langchain-core<1.0.0,>=0.3.66 in /usr/local/lib/python3.11/dist-packages (from langchain) (0.3.66)\n",
            "Requirement already satisfied: langchain-text-splitters<1.0.0,>=0.3.8 in /usr/local/lib/python3.11/dist-packages (from langchain) (0.3.8)\n",
            "Requirement already satisfied: langsmith>=0.1.17 in /usr/local/lib/python3.11/dist-packages (from langchain) (0.4.1)\n",
            "Requirement already satisfied: pydantic<3.0.0,>=2.7.4 in /usr/local/lib/python3.11/dist-packages (from langchain) (2.11.7)\n",
            "Requirement already satisfied: SQLAlchemy<3,>=1.4 in /usr/local/lib/python3.11/dist-packages (from langchain) (2.0.41)\n",
            "Requirement already satisfied: requests<3,>=2 in /usr/local/lib/python3.11/dist-packages (from langchain) (2.32.3)\n",
            "Requirement already satisfied: PyYAML>=5.3 in /usr/local/lib/python3.11/dist-packages (from langchain) (6.0.2)\n",
            "Requirement already satisfied: build>=1.0.3 in /usr/local/lib/python3.11/dist-packages (from chromadb) (1.2.2.post1)\n",
            "Requirement already satisfied: pybase64>=1.4.1 in /usr/local/lib/python3.11/dist-packages (from chromadb) (1.4.1)\n",
            "Requirement already satisfied: uvicorn>=0.18.3 in /usr/local/lib/python3.11/dist-packages (from uvicorn[standard]>=0.18.3->chromadb) (0.34.3)\n",
            "Requirement already satisfied: posthog>=2.4.0 in /usr/local/lib/python3.11/dist-packages (from chromadb) (6.0.1)\n",
            "Requirement already satisfied: typing-extensions>=4.5.0 in /usr/local/lib/python3.11/dist-packages (from chromadb) (4.14.0)\n",
            "Requirement already satisfied: onnxruntime>=1.14.1 in /usr/local/lib/python3.11/dist-packages (from chromadb) (1.22.0)\n",
            "Requirement already satisfied: opentelemetry-api>=1.2.0 in /usr/local/lib/python3.11/dist-packages (from chromadb) (1.34.1)\n",
            "Requirement already satisfied: opentelemetry-exporter-otlp-proto-grpc>=1.2.0 in /usr/local/lib/python3.11/dist-packages (from chromadb) (1.34.1)\n",
            "Requirement already satisfied: opentelemetry-sdk>=1.2.0 in /usr/local/lib/python3.11/dist-packages (from chromadb) (1.34.1)\n",
            "Requirement already satisfied: tokenizers>=0.13.2 in /usr/local/lib/python3.11/dist-packages (from chromadb) (0.21.2)\n",
            "Requirement already satisfied: pypika>=0.48.9 in /usr/local/lib/python3.11/dist-packages (from chromadb) (0.48.9)\n",
            "Requirement already satisfied: tqdm>=4.65.0 in /usr/local/lib/python3.11/dist-packages (from chromadb) (4.67.1)\n",
            "Requirement already satisfied: overrides>=7.3.1 in /usr/local/lib/python3.11/dist-packages (from chromadb) (7.7.0)\n",
            "Requirement already satisfied: importlib-resources in /usr/local/lib/python3.11/dist-packages (from chromadb) (6.5.2)\n",
            "Requirement already satisfied: grpcio>=1.58.0 in /usr/local/lib/python3.11/dist-packages (from chromadb) (1.73.0)\n",
            "Requirement already satisfied: bcrypt>=4.0.1 in /usr/local/lib/python3.11/dist-packages (from chromadb) (4.3.0)\n",
            "Requirement already satisfied: typer>=0.9.0 in /usr/local/lib/python3.11/dist-packages (from chromadb) (0.16.0)\n",
            "Requirement already satisfied: kubernetes>=28.1.0 in /usr/local/lib/python3.11/dist-packages (from chromadb) (33.1.0)\n",
            "Requirement already satisfied: tenacity>=8.2.3 in /usr/local/lib/python3.11/dist-packages (from chromadb) (8.5.0)\n",
            "Requirement already satisfied: mmh3>=4.0.1 in /usr/local/lib/python3.11/dist-packages (from chromadb) (5.1.0)\n",
            "Requirement already satisfied: orjson>=3.9.12 in /usr/local/lib/python3.11/dist-packages (from chromadb) (3.10.18)\n",
            "Requirement already satisfied: httpx>=0.27.0 in /usr/local/lib/python3.11/dist-packages (from chromadb) (0.28.1)\n",
            "Requirement already satisfied: rich>=10.11.0 in /usr/local/lib/python3.11/dist-packages (from chromadb) (13.9.4)\n",
            "Requirement already satisfied: jsonschema>=4.19.0 in /usr/local/lib/python3.11/dist-packages (from chromadb) (4.24.0)\n",
            "Requirement already satisfied: anyio<5,>=3.5.0 in /usr/local/lib/python3.11/dist-packages (from openai) (4.9.0)\n",
            "Requirement already satisfied: distro<2,>=1.7.0 in /usr/local/lib/python3.11/dist-packages (from openai) (1.9.0)\n",
            "Requirement already satisfied: jiter<1,>=0.4.0 in /usr/local/lib/python3.11/dist-packages (from openai) (0.10.0)\n",
            "Requirement already satisfied: sniffio in /usr/local/lib/python3.11/dist-packages (from openai) (1.3.1)\n",
            "Requirement already satisfied: python-dateutil>=2.8.2 in /usr/local/lib/python3.11/dist-packages (from pandas) (2.9.0.post0)\n",
            "Requirement already satisfied: pytz>=2020.1 in /usr/local/lib/python3.11/dist-packages (from pandas) (2025.2)\n",
            "Requirement already satisfied: tzdata>=2022.7 in /usr/local/lib/python3.11/dist-packages (from pandas) (2025.2)\n",
            "Requirement already satisfied: tiktoken<1,>=0.7 in /usr/local/lib/python3.11/dist-packages (from langchain_openai) (0.9.0)\n",
            "Requirement already satisfied: idna>=2.8 in /usr/local/lib/python3.11/dist-packages (from anyio<5,>=3.5.0->openai) (3.10)\n",
            "Requirement already satisfied: packaging>=19.1 in /usr/local/lib/python3.11/dist-packages (from build>=1.0.3->chromadb) (24.2)\n",
            "Requirement already satisfied: pyproject_hooks in /usr/local/lib/python3.11/dist-packages (from build>=1.0.3->chromadb) (1.2.0)\n",
            "Requirement already satisfied: certifi in /usr/local/lib/python3.11/dist-packages (from httpx>=0.27.0->chromadb) (2025.6.15)\n",
            "Requirement already satisfied: httpcore==1.* in /usr/local/lib/python3.11/dist-packages (from httpx>=0.27.0->chromadb) (1.0.9)\n",
            "Requirement already satisfied: h11>=0.16 in /usr/local/lib/python3.11/dist-packages (from httpcore==1.*->httpx>=0.27.0->chromadb) (0.16.0)\n",
            "Requirement already satisfied: attrs>=22.2.0 in /usr/local/lib/python3.11/dist-packages (from jsonschema>=4.19.0->chromadb) (25.3.0)\n",
            "Requirement already satisfied: jsonschema-specifications>=2023.03.6 in /usr/local/lib/python3.11/dist-packages (from jsonschema>=4.19.0->chromadb) (2025.4.1)\n",
            "Requirement already satisfied: referencing>=0.28.4 in /usr/local/lib/python3.11/dist-packages (from jsonschema>=4.19.0->chromadb) (0.36.2)\n",
            "Requirement already satisfied: rpds-py>=0.7.1 in /usr/local/lib/python3.11/dist-packages (from jsonschema>=4.19.0->chromadb) (0.25.1)\n",
            "Requirement already satisfied: six>=1.9.0 in /usr/local/lib/python3.11/dist-packages (from kubernetes>=28.1.0->chromadb) (1.17.0)\n",
            "Requirement already satisfied: google-auth>=1.0.1 in /usr/local/lib/python3.11/dist-packages (from kubernetes>=28.1.0->chromadb) (2.38.0)\n",
            "Requirement already satisfied: websocket-client!=0.40.0,!=0.41.*,!=0.42.*,>=0.32.0 in /usr/local/lib/python3.11/dist-packages (from kubernetes>=28.1.0->chromadb) (1.8.0)\n",
            "Requirement already satisfied: requests-oauthlib in /usr/local/lib/python3.11/dist-packages (from kubernetes>=28.1.0->chromadb) (2.0.0)\n",
            "Requirement already satisfied: oauthlib>=3.2.2 in /usr/local/lib/python3.11/dist-packages (from kubernetes>=28.1.0->chromadb) (3.3.1)\n",
            "Requirement already satisfied: urllib3>=1.24.2 in /usr/local/lib/python3.11/dist-packages (from kubernetes>=28.1.0->chromadb) (2.4.0)\n",
            "Requirement already satisfied: durationpy>=0.7 in /usr/local/lib/python3.11/dist-packages (from kubernetes>=28.1.0->chromadb) (0.10)\n",
            "Requirement already satisfied: jsonpatch<2.0,>=1.33 in /usr/local/lib/python3.11/dist-packages (from langchain-core<1.0.0,>=0.3.66->langchain) (1.33)\n",
            "Requirement already satisfied: requests-toolbelt<2.0.0,>=1.0.0 in /usr/local/lib/python3.11/dist-packages (from langsmith>=0.1.17->langchain) (1.0.0)\n",
            "Requirement already satisfied: zstandard<0.24.0,>=0.23.0 in /usr/local/lib/python3.11/dist-packages (from langsmith>=0.1.17->langchain) (0.23.0)\n",
            "Requirement already satisfied: coloredlogs in /usr/local/lib/python3.11/dist-packages (from onnxruntime>=1.14.1->chromadb) (15.0.1)\n",
            "Requirement already satisfied: flatbuffers in /usr/local/lib/python3.11/dist-packages (from onnxruntime>=1.14.1->chromadb) (25.2.10)\n",
            "Requirement already satisfied: protobuf in /usr/local/lib/python3.11/dist-packages (from onnxruntime>=1.14.1->chromadb) (5.29.5)\n",
            "Requirement already satisfied: sympy in /usr/local/lib/python3.11/dist-packages (from onnxruntime>=1.14.1->chromadb) (1.13.1)\n",
            "Requirement already satisfied: importlib-metadata<8.8.0,>=6.0 in /usr/local/lib/python3.11/dist-packages (from opentelemetry-api>=1.2.0->chromadb) (8.7.0)\n",
            "Requirement already satisfied: googleapis-common-protos~=1.52 in /usr/local/lib/python3.11/dist-packages (from opentelemetry-exporter-otlp-proto-grpc>=1.2.0->chromadb) (1.70.0)\n",
            "Requirement already satisfied: opentelemetry-exporter-otlp-proto-common==1.34.1 in /usr/local/lib/python3.11/dist-packages (from opentelemetry-exporter-otlp-proto-grpc>=1.2.0->chromadb) (1.34.1)\n",
            "Requirement already satisfied: opentelemetry-proto==1.34.1 in /usr/local/lib/python3.11/dist-packages (from opentelemetry-exporter-otlp-proto-grpc>=1.2.0->chromadb) (1.34.1)\n",
            "Requirement already satisfied: opentelemetry-semantic-conventions==0.55b1 in /usr/local/lib/python3.11/dist-packages (from opentelemetry-sdk>=1.2.0->chromadb) (0.55b1)\n",
            "Requirement already satisfied: backoff>=1.10.0 in /usr/local/lib/python3.11/dist-packages (from posthog>=2.4.0->chromadb) (2.2.1)\n",
            "Requirement already satisfied: annotated-types>=0.6.0 in /usr/local/lib/python3.11/dist-packages (from pydantic<3.0.0,>=2.7.4->langchain) (0.7.0)\n",
            "Requirement already satisfied: pydantic-core==2.33.2 in /usr/local/lib/python3.11/dist-packages (from pydantic<3.0.0,>=2.7.4->langchain) (2.33.2)\n",
            "Requirement already satisfied: typing-inspection>=0.4.0 in /usr/local/lib/python3.11/dist-packages (from pydantic<3.0.0,>=2.7.4->langchain) (0.4.1)\n",
            "Requirement already satisfied: charset-normalizer<4,>=2 in /usr/local/lib/python3.11/dist-packages (from requests<3,>=2->langchain) (3.4.2)\n",
            "Requirement already satisfied: markdown-it-py>=2.2.0 in /usr/local/lib/python3.11/dist-packages (from rich>=10.11.0->chromadb) (3.0.0)\n",
            "Requirement already satisfied: pygments<3.0.0,>=2.13.0 in /usr/local/lib/python3.11/dist-packages (from rich>=10.11.0->chromadb) (2.19.2)\n",
            "Requirement already satisfied: greenlet>=1 in /usr/local/lib/python3.11/dist-packages (from SQLAlchemy<3,>=1.4->langchain) (3.2.3)\n",
            "Requirement already satisfied: regex>=2022.1.18 in /usr/local/lib/python3.11/dist-packages (from tiktoken<1,>=0.7->langchain_openai) (2024.11.6)\n",
            "Requirement already satisfied: huggingface-hub<1.0,>=0.16.4 in /usr/local/lib/python3.11/dist-packages (from tokenizers>=0.13.2->chromadb) (0.33.0)\n",
            "Requirement already satisfied: click>=8.0.0 in /usr/local/lib/python3.11/dist-packages (from typer>=0.9.0->chromadb) (8.2.1)\n",
            "Requirement already satisfied: shellingham>=1.3.0 in /usr/local/lib/python3.11/dist-packages (from typer>=0.9.0->chromadb) (1.5.4)\n",
            "Requirement already satisfied: httptools>=0.6.3 in /usr/local/lib/python3.11/dist-packages (from uvicorn[standard]>=0.18.3->chromadb) (0.6.4)\n",
            "Requirement already satisfied: uvloop>=0.15.1 in /usr/local/lib/python3.11/dist-packages (from uvicorn[standard]>=0.18.3->chromadb) (0.21.0)\n",
            "Requirement already satisfied: watchfiles>=0.13 in /usr/local/lib/python3.11/dist-packages (from uvicorn[standard]>=0.18.3->chromadb) (1.1.0)\n",
            "Requirement already satisfied: websockets>=10.4 in /usr/local/lib/python3.11/dist-packages (from uvicorn[standard]>=0.18.3->chromadb) (15.0.1)\n",
            "Requirement already satisfied: cachetools<6.0,>=2.0.0 in /usr/local/lib/python3.11/dist-packages (from google-auth>=1.0.1->kubernetes>=28.1.0->chromadb) (5.5.2)\n",
            "Requirement already satisfied: pyasn1-modules>=0.2.1 in /usr/local/lib/python3.11/dist-packages (from google-auth>=1.0.1->kubernetes>=28.1.0->chromadb) (0.4.2)\n",
            "Requirement already satisfied: rsa<5,>=3.1.4 in /usr/local/lib/python3.11/dist-packages (from google-auth>=1.0.1->kubernetes>=28.1.0->chromadb) (4.9.1)\n",
            "Requirement already satisfied: filelock in /usr/local/lib/python3.11/dist-packages (from huggingface-hub<1.0,>=0.16.4->tokenizers>=0.13.2->chromadb) (3.18.0)\n",
            "Requirement already satisfied: fsspec>=2023.5.0 in /usr/local/lib/python3.11/dist-packages (from huggingface-hub<1.0,>=0.16.4->tokenizers>=0.13.2->chromadb) (2025.3.2)\n",
            "Requirement already satisfied: hf-xet<2.0.0,>=1.1.2 in /usr/local/lib/python3.11/dist-packages (from huggingface-hub<1.0,>=0.16.4->tokenizers>=0.13.2->chromadb) (1.1.5)\n",
            "Requirement already satisfied: zipp>=3.20 in /usr/local/lib/python3.11/dist-packages (from importlib-metadata<8.8.0,>=6.0->opentelemetry-api>=1.2.0->chromadb) (3.23.0)\n",
            "Requirement already satisfied: jsonpointer>=1.9 in /usr/local/lib/python3.11/dist-packages (from jsonpatch<2.0,>=1.33->langchain-core<1.0.0,>=0.3.66->langchain) (3.0.0)\n",
            "Requirement already satisfied: mdurl~=0.1 in /usr/local/lib/python3.11/dist-packages (from markdown-it-py>=2.2.0->rich>=10.11.0->chromadb) (0.1.2)\n",
            "Requirement already satisfied: humanfriendly>=9.1 in /usr/local/lib/python3.11/dist-packages (from coloredlogs->onnxruntime>=1.14.1->chromadb) (10.0)\n",
            "Requirement already satisfied: mpmath<1.4,>=1.1.0 in /usr/local/lib/python3.11/dist-packages (from sympy->onnxruntime>=1.14.1->chromadb) (1.3.0)\n",
            "Requirement already satisfied: pyasn1<0.7.0,>=0.6.1 in /usr/local/lib/python3.11/dist-packages (from pyasn1-modules>=0.2.1->google-auth>=1.0.1->kubernetes>=28.1.0->chromadb) (0.6.1)\n"
          ]
        }
      ]
    },
    {
      "cell_type": "markdown",
      "source": [
        "Nesta primeira célula, estamos reunindo as “peças” essenciais que serão os alicerces do nosso notebook de padronização de dados de produtos. Pense nela como a bancada de laboratório onde você prepara todos os reagentes antes de começar o experimento:\n",
        "\n",
        "import json\n",
        "\n",
        "Carrega e salva configurações e resultados em formato JSON, nossa linguagem universal para trocar informações entre sistemas.\n",
        "\n",
        "LangChain & Chroma (Vector Store)\n",
        "\n",
        "from langchain_chroma import Chroma from langchain_core.example_selectors import SemanticSimilarityExampleSelector\n",
        "\n",
        "Aqui trazemos o Chroma, que vai armazenar vetores de embedding dos textos dos produtos, e o SemanticSimilarityExampleSelector, nosso “curador” que escolhe exemplos mais relevantes com base em similaridade semântica.\n",
        "\n",
        "Templates de Prompt\n",
        "\n",
        "from langchain_core.prompts import ChatPromptTemplate from langchain_core.prompts.few_shot import FewShotChatMessagePromptTemplate\n",
        "\n",
        "Essas classes permitem montar conversas estruturadas (prompts) com o modelo de IA. É nelas que definiremos o “roteiro” criativo para o ChatGPT transformar descrições livres em campos padronizados.\n",
        "\n",
        "OpenAI & Embeddings\n",
        "\n",
        "from langchain_openai import ChatOpenAI, OpenAIEmbeddings\n",
        "\n",
        "Aqui é onde chamamos a mágica do ChatOpenAI para gerar texto e do OpenAIEmbeddings para converter frases dos produtos em vetores numéricos que o Chroma entende.\n",
        "\n",
        "Dotenv\n",
        "\n",
        "from dotenv import load_dotenv\n",
        "\n",
        "Garante que suas chaves de API e outras variáveis sensíveis fiquem guardadas num arquivo .env, sem vazar no código.\n",
        "\n",
        "Modelo de Domínio\n",
        "\n",
        "from product_model import Product\n",
        "\n",
        "Importa a classe Product, que define como queremos que nossos dados padronizados de produto sejam estruturados: nome, categoria, atributos, etc.\n",
        "\n",
        "Pandas & NumPy\n",
        "\n",
        "import pandas as pd import numpy as np\n",
        "\n",
        "São nossas lentes e escalpelo para ler, fatiar, transformar e manipular tabelas e matrizes de dados com agilidade.\n",
        "\n",
        "🌟 Por que isso importa? Ao juntar essas bibliotecas, temos:\n",
        "\n",
        "Leitura/Gravação de configurações (JSON).\n",
        "\n",
        "Armazenamento de vetores semânticos (Chroma).\n",
        "\n",
        "Seleção Inteligente de exemplos (SemanticSimilarity).\n",
        "\n",
        "Montagem de prompts dinâmicos (ChatPromptTemplate).\n",
        "\n",
        "Chamada ao ponto de entrada da IA (ChatOpenAI).\n",
        "\n",
        "Proteção das credenciais (dotenv).\n",
        "\n",
        "Estruturação do resultado (Product).\n",
        "\n",
        "Manipulação de dados em massa (pandas & numpy)."
      ],
      "metadata": {
        "id": "ZniuwhcvgWvw"
      }
    },
    {
      "cell_type": "code",
      "execution_count": 3,
      "metadata": {
        "id": "oH8HaSPgeCyn"
      },
      "outputs": [],
      "source": [
        "import json\n",
        "\n",
        "from langchain_chroma import Chroma\n",
        "from langchain_core.example_selectors import SemanticSimilarityExampleSelector\n",
        "from langchain_core.prompts import ChatPromptTemplate\n",
        "from langchain_core.prompts.few_shot import FewShotChatMessagePromptTemplate\n",
        "from langchain_openai import ChatOpenAI, OpenAIEmbeddings\n",
        "from dotenv import load_dotenv\n",
        "from product_model import Product\n",
        "\n",
        "import pandas as pd\n",
        "import numpy as np"
      ]
    },
    {
      "cell_type": "markdown",
      "metadata": {
        "id": "mkBC_Er5eCyo"
      },
      "source": [
        "load_dotenv(): carrega variáveis de ambiente a partir do arquivo .env.\n",
        "\n",
        "llm = ChatOpenAI(temperature=0, model=\"gpt-4o-mini\"): inicializa o GPT-4o-mini com temperatura zero, garantindo saídas consistentes e reproduzíveis."
      ]
    },
    {
      "cell_type": "code",
      "execution_count": 5,
      "metadata": {
        "id": "74t6mmzseCyo"
      },
      "outputs": [],
      "source": [
        "from google.colab import userdata\n",
        "openai_api_key = userdata.get('OPENAI_API_KEY')\n",
        "llm = ChatOpenAI(temperature=0, model=\"gpt-4o-mini\", api_key=openai_api_key)"
      ]
    },
    {
      "cell_type": "markdown",
      "metadata": {
        "id": "krzrmmyxeCyp"
      },
      "source": [
        "## Load Examples"
      ]
    },
    {
      "cell_type": "markdown",
      "metadata": {
        "id": "2keJmfCveCyp"
      },
      "source": [
        "Propósito: transforma cada linha do DataFrame num par input/output pronto para alimentar o pipeline de IA.\n",
        "\n",
        "“input”: pega o texto livre em row[\"description\"].\n",
        "\n",
        "“output”: gera uma string JSON (com acentuação preservada) contendo os campos padronizados do Product — tipo, marcas, variação, embalagem, unidade e quantidade.\n",
        "\n",
        "Em resumo, esta função empacota seu dado bruto e a estrutura esperada num exemplo único, ideal para treinar ou chamar o modelo de forma consistente."
      ]
    },
    {
      "cell_type": "code",
      "execution_count": 6,
      "metadata": {
        "id": "T-XTqnzxeCyp"
      },
      "outputs": [],
      "source": [
        "def row_to_json(row):\n",
        "    return {\n",
        "        \"input\": row[\"description\"],\n",
        "        \"output\": json.dumps(\n",
        "            {\n",
        "                \"type\": row.get(\"type\"),\n",
        "                \"primary_brand\": row.get(\"primary_brand\"),\n",
        "                \"secondary_brand\": row.get(\"secondary_brand\"),\n",
        "                \"variation\": row.get(\"variation\"),\n",
        "                \"container\": row.get(\"container\"),\n",
        "                \"container_type\": row.get(\"container_type\"),\n",
        "                \"measure\": row.get(\"measure\"),\n",
        "                \"unity\": row.get(\"unity\"),\n",
        "                \"amount\": row.get(\"amount\"),\n",
        "            },\n",
        "            ensure_ascii=False,\n",
        "        ),\n",
        "    }"
      ]
    },
    {
      "cell_type": "markdown",
      "metadata": {
        "id": "iCjz23pCeCyp"
      },
      "source": [
        "Lê o arquivo examples.csv em um DataFrame.\n",
        "\n",
        "Converte valores NaN em None para compatibilidade com JSON e IA.\n",
        "\n",
        "Exibe as primeiras linhas (head) para verificação rápida dos exemplos disponíveis."
      ]
    },
    {
      "cell_type": "code",
      "execution_count": 7,
      "metadata": {
        "colab": {
          "base_uri": "https://localhost:8080/",
          "height": 206
        },
        "id": "vPzr1yRWeCyq",
        "outputId": "70575563-2616-4629-83f8-ea18fc8156f1"
      },
      "outputs": [
        {
          "output_type": "execute_result",
          "data": {
            "text/plain": [
              "                                         description     type primary_brand  \\\n",
              "0      CERVEJA ANTARCTICA PILSEN GARRAFA VIDRO 600ML  cerveja    antarctica   \n",
              "1  CERVEJA PATAGONIA BOHEMIAN PILSENER GARRAFA ON...  cerveja     patagonia   \n",
              "2                 CERVEJA SKOL BEATS SECRET LT 269ML  cerveja          skol   \n",
              "3                          CERV. CARACU LN 355ML C/6  cerveja        caracu   \n",
              "4            SUCO DE UVA ALIANÇA TINTO INTEGRAL 1.5L     suco       aliança   \n",
              "\n",
              "  secondary_brand           variation  container container_type  amount  \\\n",
              "0            None              pilsen    garrafa          vidro       1   \n",
              "1            None   bohemian pilsener    garrafa        one way       1   \n",
              "2           beats              secret       lata           None       1   \n",
              "3            None                None  long neck           None       6   \n",
              "4            None  uva tinto integral       None           None       1   \n",
              "\n",
              "   measure unity  \n",
              "0    600.0    ml  \n",
              "1    740.0    ml  \n",
              "2    269.0    ml  \n",
              "3    355.0    ml  \n",
              "4      1.5     L  "
            ],
            "text/html": [
              "\n",
              "  <div id=\"df-b2470844-67ff-4258-9bf8-90f24dbfcc44\" class=\"colab-df-container\">\n",
              "    <div>\n",
              "<style scoped>\n",
              "    .dataframe tbody tr th:only-of-type {\n",
              "        vertical-align: middle;\n",
              "    }\n",
              "\n",
              "    .dataframe tbody tr th {\n",
              "        vertical-align: top;\n",
              "    }\n",
              "\n",
              "    .dataframe thead th {\n",
              "        text-align: right;\n",
              "    }\n",
              "</style>\n",
              "<table border=\"1\" class=\"dataframe\">\n",
              "  <thead>\n",
              "    <tr style=\"text-align: right;\">\n",
              "      <th></th>\n",
              "      <th>description</th>\n",
              "      <th>type</th>\n",
              "      <th>primary_brand</th>\n",
              "      <th>secondary_brand</th>\n",
              "      <th>variation</th>\n",
              "      <th>container</th>\n",
              "      <th>container_type</th>\n",
              "      <th>amount</th>\n",
              "      <th>measure</th>\n",
              "      <th>unity</th>\n",
              "    </tr>\n",
              "  </thead>\n",
              "  <tbody>\n",
              "    <tr>\n",
              "      <th>0</th>\n",
              "      <td>CERVEJA ANTARCTICA PILSEN GARRAFA VIDRO 600ML</td>\n",
              "      <td>cerveja</td>\n",
              "      <td>antarctica</td>\n",
              "      <td>None</td>\n",
              "      <td>pilsen</td>\n",
              "      <td>garrafa</td>\n",
              "      <td>vidro</td>\n",
              "      <td>1</td>\n",
              "      <td>600.0</td>\n",
              "      <td>ml</td>\n",
              "    </tr>\n",
              "    <tr>\n",
              "      <th>1</th>\n",
              "      <td>CERVEJA PATAGONIA BOHEMIAN PILSENER GARRAFA ON...</td>\n",
              "      <td>cerveja</td>\n",
              "      <td>patagonia</td>\n",
              "      <td>None</td>\n",
              "      <td>bohemian pilsener</td>\n",
              "      <td>garrafa</td>\n",
              "      <td>one way</td>\n",
              "      <td>1</td>\n",
              "      <td>740.0</td>\n",
              "      <td>ml</td>\n",
              "    </tr>\n",
              "    <tr>\n",
              "      <th>2</th>\n",
              "      <td>CERVEJA SKOL BEATS SECRET LT 269ML</td>\n",
              "      <td>cerveja</td>\n",
              "      <td>skol</td>\n",
              "      <td>beats</td>\n",
              "      <td>secret</td>\n",
              "      <td>lata</td>\n",
              "      <td>None</td>\n",
              "      <td>1</td>\n",
              "      <td>269.0</td>\n",
              "      <td>ml</td>\n",
              "    </tr>\n",
              "    <tr>\n",
              "      <th>3</th>\n",
              "      <td>CERV. CARACU LN 355ML C/6</td>\n",
              "      <td>cerveja</td>\n",
              "      <td>caracu</td>\n",
              "      <td>None</td>\n",
              "      <td>None</td>\n",
              "      <td>long neck</td>\n",
              "      <td>None</td>\n",
              "      <td>6</td>\n",
              "      <td>355.0</td>\n",
              "      <td>ml</td>\n",
              "    </tr>\n",
              "    <tr>\n",
              "      <th>4</th>\n",
              "      <td>SUCO DE UVA ALIANÇA TINTO INTEGRAL 1.5L</td>\n",
              "      <td>suco</td>\n",
              "      <td>aliança</td>\n",
              "      <td>None</td>\n",
              "      <td>uva tinto integral</td>\n",
              "      <td>None</td>\n",
              "      <td>None</td>\n",
              "      <td>1</td>\n",
              "      <td>1.5</td>\n",
              "      <td>L</td>\n",
              "    </tr>\n",
              "  </tbody>\n",
              "</table>\n",
              "</div>\n",
              "    <div class=\"colab-df-buttons\">\n",
              "\n",
              "  <div class=\"colab-df-container\">\n",
              "    <button class=\"colab-df-convert\" onclick=\"convertToInteractive('df-b2470844-67ff-4258-9bf8-90f24dbfcc44')\"\n",
              "            title=\"Convert this dataframe to an interactive table.\"\n",
              "            style=\"display:none;\">\n",
              "\n",
              "  <svg xmlns=\"http://www.w3.org/2000/svg\" height=\"24px\" viewBox=\"0 -960 960 960\">\n",
              "    <path d=\"M120-120v-720h720v720H120Zm60-500h600v-160H180v160Zm220 220h160v-160H400v160Zm0 220h160v-160H400v160ZM180-400h160v-160H180v160Zm440 0h160v-160H620v160ZM180-180h160v-160H180v160Zm440 0h160v-160H620v160Z\"/>\n",
              "  </svg>\n",
              "    </button>\n",
              "\n",
              "  <style>\n",
              "    .colab-df-container {\n",
              "      display:flex;\n",
              "      gap: 12px;\n",
              "    }\n",
              "\n",
              "    .colab-df-convert {\n",
              "      background-color: #E8F0FE;\n",
              "      border: none;\n",
              "      border-radius: 50%;\n",
              "      cursor: pointer;\n",
              "      display: none;\n",
              "      fill: #1967D2;\n",
              "      height: 32px;\n",
              "      padding: 0 0 0 0;\n",
              "      width: 32px;\n",
              "    }\n",
              "\n",
              "    .colab-df-convert:hover {\n",
              "      background-color: #E2EBFA;\n",
              "      box-shadow: 0px 1px 2px rgba(60, 64, 67, 0.3), 0px 1px 3px 1px rgba(60, 64, 67, 0.15);\n",
              "      fill: #174EA6;\n",
              "    }\n",
              "\n",
              "    .colab-df-buttons div {\n",
              "      margin-bottom: 4px;\n",
              "    }\n",
              "\n",
              "    [theme=dark] .colab-df-convert {\n",
              "      background-color: #3B4455;\n",
              "      fill: #D2E3FC;\n",
              "    }\n",
              "\n",
              "    [theme=dark] .colab-df-convert:hover {\n",
              "      background-color: #434B5C;\n",
              "      box-shadow: 0px 1px 3px 1px rgba(0, 0, 0, 0.15);\n",
              "      filter: drop-shadow(0px 1px 2px rgba(0, 0, 0, 0.3));\n",
              "      fill: #FFFFFF;\n",
              "    }\n",
              "  </style>\n",
              "\n",
              "    <script>\n",
              "      const buttonEl =\n",
              "        document.querySelector('#df-b2470844-67ff-4258-9bf8-90f24dbfcc44 button.colab-df-convert');\n",
              "      buttonEl.style.display =\n",
              "        google.colab.kernel.accessAllowed ? 'block' : 'none';\n",
              "\n",
              "      async function convertToInteractive(key) {\n",
              "        const element = document.querySelector('#df-b2470844-67ff-4258-9bf8-90f24dbfcc44');\n",
              "        const dataTable =\n",
              "          await google.colab.kernel.invokeFunction('convertToInteractive',\n",
              "                                                    [key], {});\n",
              "        if (!dataTable) return;\n",
              "\n",
              "        const docLinkHtml = 'Like what you see? Visit the ' +\n",
              "          '<a target=\"_blank\" href=https://colab.research.google.com/notebooks/data_table.ipynb>data table notebook</a>'\n",
              "          + ' to learn more about interactive tables.';\n",
              "        element.innerHTML = '';\n",
              "        dataTable['output_type'] = 'display_data';\n",
              "        await google.colab.output.renderOutput(dataTable, element);\n",
              "        const docLink = document.createElement('div');\n",
              "        docLink.innerHTML = docLinkHtml;\n",
              "        element.appendChild(docLink);\n",
              "      }\n",
              "    </script>\n",
              "  </div>\n",
              "\n",
              "\n",
              "    <div id=\"df-ca7e08a4-1674-4024-8428-05327bce65da\">\n",
              "      <button class=\"colab-df-quickchart\" onclick=\"quickchart('df-ca7e08a4-1674-4024-8428-05327bce65da')\"\n",
              "                title=\"Suggest charts\"\n",
              "                style=\"display:none;\">\n",
              "\n",
              "<svg xmlns=\"http://www.w3.org/2000/svg\" height=\"24px\"viewBox=\"0 0 24 24\"\n",
              "     width=\"24px\">\n",
              "    <g>\n",
              "        <path d=\"M19 3H5c-1.1 0-2 .9-2 2v14c0 1.1.9 2 2 2h14c1.1 0 2-.9 2-2V5c0-1.1-.9-2-2-2zM9 17H7v-7h2v7zm4 0h-2V7h2v10zm4 0h-2v-4h2v4z\"/>\n",
              "    </g>\n",
              "</svg>\n",
              "      </button>\n",
              "\n",
              "<style>\n",
              "  .colab-df-quickchart {\n",
              "      --bg-color: #E8F0FE;\n",
              "      --fill-color: #1967D2;\n",
              "      --hover-bg-color: #E2EBFA;\n",
              "      --hover-fill-color: #174EA6;\n",
              "      --disabled-fill-color: #AAA;\n",
              "      --disabled-bg-color: #DDD;\n",
              "  }\n",
              "\n",
              "  [theme=dark] .colab-df-quickchart {\n",
              "      --bg-color: #3B4455;\n",
              "      --fill-color: #D2E3FC;\n",
              "      --hover-bg-color: #434B5C;\n",
              "      --hover-fill-color: #FFFFFF;\n",
              "      --disabled-bg-color: #3B4455;\n",
              "      --disabled-fill-color: #666;\n",
              "  }\n",
              "\n",
              "  .colab-df-quickchart {\n",
              "    background-color: var(--bg-color);\n",
              "    border: none;\n",
              "    border-radius: 50%;\n",
              "    cursor: pointer;\n",
              "    display: none;\n",
              "    fill: var(--fill-color);\n",
              "    height: 32px;\n",
              "    padding: 0;\n",
              "    width: 32px;\n",
              "  }\n",
              "\n",
              "  .colab-df-quickchart:hover {\n",
              "    background-color: var(--hover-bg-color);\n",
              "    box-shadow: 0 1px 2px rgba(60, 64, 67, 0.3), 0 1px 3px 1px rgba(60, 64, 67, 0.15);\n",
              "    fill: var(--button-hover-fill-color);\n",
              "  }\n",
              "\n",
              "  .colab-df-quickchart-complete:disabled,\n",
              "  .colab-df-quickchart-complete:disabled:hover {\n",
              "    background-color: var(--disabled-bg-color);\n",
              "    fill: var(--disabled-fill-color);\n",
              "    box-shadow: none;\n",
              "  }\n",
              "\n",
              "  .colab-df-spinner {\n",
              "    border: 2px solid var(--fill-color);\n",
              "    border-color: transparent;\n",
              "    border-bottom-color: var(--fill-color);\n",
              "    animation:\n",
              "      spin 1s steps(1) infinite;\n",
              "  }\n",
              "\n",
              "  @keyframes spin {\n",
              "    0% {\n",
              "      border-color: transparent;\n",
              "      border-bottom-color: var(--fill-color);\n",
              "      border-left-color: var(--fill-color);\n",
              "    }\n",
              "    20% {\n",
              "      border-color: transparent;\n",
              "      border-left-color: var(--fill-color);\n",
              "      border-top-color: var(--fill-color);\n",
              "    }\n",
              "    30% {\n",
              "      border-color: transparent;\n",
              "      border-left-color: var(--fill-color);\n",
              "      border-top-color: var(--fill-color);\n",
              "      border-right-color: var(--fill-color);\n",
              "    }\n",
              "    40% {\n",
              "      border-color: transparent;\n",
              "      border-right-color: var(--fill-color);\n",
              "      border-top-color: var(--fill-color);\n",
              "    }\n",
              "    60% {\n",
              "      border-color: transparent;\n",
              "      border-right-color: var(--fill-color);\n",
              "    }\n",
              "    80% {\n",
              "      border-color: transparent;\n",
              "      border-right-color: var(--fill-color);\n",
              "      border-bottom-color: var(--fill-color);\n",
              "    }\n",
              "    90% {\n",
              "      border-color: transparent;\n",
              "      border-bottom-color: var(--fill-color);\n",
              "    }\n",
              "  }\n",
              "</style>\n",
              "\n",
              "      <script>\n",
              "        async function quickchart(key) {\n",
              "          const quickchartButtonEl =\n",
              "            document.querySelector('#' + key + ' button');\n",
              "          quickchartButtonEl.disabled = true;  // To prevent multiple clicks.\n",
              "          quickchartButtonEl.classList.add('colab-df-spinner');\n",
              "          try {\n",
              "            const charts = await google.colab.kernel.invokeFunction(\n",
              "                'suggestCharts', [key], {});\n",
              "          } catch (error) {\n",
              "            console.error('Error during call to suggestCharts:', error);\n",
              "          }\n",
              "          quickchartButtonEl.classList.remove('colab-df-spinner');\n",
              "          quickchartButtonEl.classList.add('colab-df-quickchart-complete');\n",
              "        }\n",
              "        (() => {\n",
              "          let quickchartButtonEl =\n",
              "            document.querySelector('#df-ca7e08a4-1674-4024-8428-05327bce65da button');\n",
              "          quickchartButtonEl.style.display =\n",
              "            google.colab.kernel.accessAllowed ? 'block' : 'none';\n",
              "        })();\n",
              "      </script>\n",
              "    </div>\n",
              "\n",
              "    </div>\n",
              "  </div>\n"
            ],
            "application/vnd.google.colaboratory.intrinsic+json": {
              "type": "dataframe",
              "variable_name": "examples_df",
              "summary": "{\n  \"name\": \"examples_df\",\n  \"rows\": 11,\n  \"fields\": [\n    {\n      \"column\": \"description\",\n      \"properties\": {\n        \"dtype\": \"string\",\n        \"num_unique_values\": 11,\n        \"samples\": [\n          \"SUCO DE UVA BORD\\u00d4 INTEGRAL 1L\",\n          \"CERVEJA ANTARCTICA PILSEN GARRAFA VIDRO 600ML\",\n          \"SALGADINHO TORCIDA CARNE 100G\"\n        ],\n        \"semantic_type\": \"\",\n        \"description\": \"\"\n      }\n    },\n    {\n      \"column\": \"type\",\n      \"properties\": {\n        \"dtype\": \"category\",\n        \"num_unique_values\": 4,\n        \"samples\": [\n          \"suco\",\n          \"salgadinho\",\n          \"cerveja\"\n        ],\n        \"semantic_type\": \"\",\n        \"description\": \"\"\n      }\n    },\n    {\n      \"column\": \"primary_brand\",\n      \"properties\": {\n        \"dtype\": \"string\",\n        \"num_unique_values\": 9,\n        \"samples\": [\n          \"ruffles\",\n          \"patagonia\",\n          \"rexona\"\n        ],\n        \"semantic_type\": \"\",\n        \"description\": \"\"\n      }\n    },\n    {\n      \"column\": \"secondary_brand\",\n      \"properties\": {\n        \"dtype\": \"category\",\n        \"num_unique_values\": 2,\n        \"samples\": [\n          \"bord\\u00f4\",\n          \"beats\"\n        ],\n        \"semantic_type\": \"\",\n        \"description\": \"\"\n      }\n    },\n    {\n      \"column\": \"variation\",\n      \"properties\": {\n        \"dtype\": \"string\",\n        \"num_unique_values\": 9,\n        \"samples\": [\n          \"cebola e salsa\",\n          \"bohemian pilsener\"\n        ],\n        \"semantic_type\": \"\",\n        \"description\": \"\"\n      }\n    },\n    {\n      \"column\": \"container\",\n      \"properties\": {\n        \"dtype\": \"category\",\n        \"num_unique_values\": 3,\n        \"samples\": [\n          \"garrafa\",\n          \"lata\"\n        ],\n        \"semantic_type\": \"\",\n        \"description\": \"\"\n      }\n    },\n    {\n      \"column\": \"container_type\",\n      \"properties\": {\n        \"dtype\": \"category\",\n        \"num_unique_values\": 2,\n        \"samples\": [\n          \"one way\",\n          \"vidro\"\n        ],\n        \"semantic_type\": \"\",\n        \"description\": \"\"\n      }\n    },\n    {\n      \"column\": \"amount\",\n      \"properties\": {\n        \"dtype\": \"number\",\n        \"std\": 1,\n        \"min\": 1,\n        \"max\": 6,\n        \"num_unique_values\": 2,\n        \"samples\": [\n          6,\n          1\n        ],\n        \"semantic_type\": \"\",\n        \"description\": \"\"\n      }\n    },\n    {\n      \"column\": \"measure\",\n      \"properties\": {\n        \"dtype\": \"number\",\n        \"std\": 246.41938567483615,\n        \"min\": 1.0,\n        \"max\": 740.0,\n        \"num_unique_values\": 10,\n        \"samples\": [\n          96.0,\n          740.0\n        ],\n        \"semantic_type\": \"\",\n        \"description\": \"\"\n      }\n    },\n    {\n      \"column\": \"unity\",\n      \"properties\": {\n        \"dtype\": \"category\",\n        \"num_unique_values\": 3,\n        \"samples\": [\n          \"ml\",\n          \"L\"\n        ],\n        \"semantic_type\": \"\",\n        \"description\": \"\"\n      }\n    }\n  ]\n}"
            }
          },
          "metadata": {},
          "execution_count": 7
        }
      ],
      "source": [
        "examples_df = pd.read_csv(\"examples.csv\").replace({np.nan: None})\n",
        "examples_df.head()"
      ]
    },
    {
      "cell_type": "markdown",
      "metadata": {
        "id": "6wJ-eA24eCyq"
      },
      "source": [
        "Usa row_to_json para mapear cada linha de examples_df a um dicionário {input, output}.\n",
        "\n",
        "Converte a série resultante em uma lista Python (examples_json), pronta para alimentar prompts Few-Shot ou seletores semânticos."
      ]
    },
    {
      "cell_type": "code",
      "execution_count": 8,
      "metadata": {
        "id": "0ssHhV3neCyq"
      },
      "outputs": [],
      "source": [
        "examples_json = examples_df.apply(row_to_json, axis=1).tolist()"
      ]
    },
    {
      "cell_type": "markdown",
      "metadata": {
        "id": "R9eBY_OreCyq"
      },
      "source": [
        "Cria um seletor que armazena os exemplos como vetores no Chroma, usando embeddings do modelo text-embedding-3-small.\n",
        "\n",
        "k=2 garante que, a cada chamada, você receba os 2 exemplos mais semanticamente relevantes para enriquecer seu prompt ou few-shot."
      ]
    },
    {
      "cell_type": "code",
      "execution_count": 10,
      "metadata": {
        "colab": {
          "base_uri": "https://localhost:8080/"
        },
        "id": "5vcLp-VOeCyr",
        "outputId": "f1ea4e8b-d297-44e1-96f7-fc97304d7429"
      },
      "outputs": [
        {
          "output_type": "stream",
          "name": "stderr",
          "text": [
            "ERROR:chromadb.telemetry.product.posthog:Failed to send telemetry event ClientStartEvent: capture() takes 1 positional argument but 3 were given\n",
            "ERROR:chromadb.telemetry.product.posthog:Failed to send telemetry event ClientCreateCollectionEvent: capture() takes 1 positional argument but 3 were given\n"
          ]
        }
      ],
      "source": [
        "example_selector = SemanticSimilarityExampleSelector.from_examples(\n",
        "    examples=examples_json,\n",
        "    embeddings=OpenAIEmbeddings(model=\"text-embedding-3-small\", api_key=openai_api_key),\n",
        "    vectorstore_cls=Chroma,\n",
        "    k=2,\n",
        ")"
      ]
    },
    {
      "cell_type": "markdown",
      "metadata": {
        "id": "2BPUGSn1eCyr"
      },
      "source": [
        "## Create prompt"
      ]
    },
    {
      "cell_type": "markdown",
      "metadata": {
        "id": "rA0Tb-myeCyr"
      },
      "source": [
        "Cria um ChatPromptTemplate com duas mensagens encadeadas:\n",
        "\n",
        "Humano recebe {input} (descrição bruta).\n",
        "\n",
        "IA responde com {output} (JSON padronizado).\n",
        "\n",
        "Esses placeholders serão substituídos dinamicamente pelos exemplos ou inputs reais no momento da chamada ao modelo."
      ]
    },
    {
      "cell_type": "code",
      "execution_count": 11,
      "metadata": {
        "id": "w4yh_cR3eCyr"
      },
      "outputs": [],
      "source": [
        "example_prompt = ChatPromptTemplate.from_messages(\n",
        "    [(\"human\", \"{input}\"), (\"ai\", \"{output}\")]\n",
        ")"
      ]
    },
    {
      "cell_type": "markdown",
      "metadata": {
        "id": "jVUgwOwweCyr"
      },
      "source": [
        "Instancia um FewShotChatMessagePromptTemplate que combina:\n",
        "\n",
        "example_selector: busca os 2 exemplos mais relevantes via similaridade semântica.\n",
        "\n",
        "example_prompt: formata cada exemplo como pares “humano → IA” (descrição bruta e JSON padronizado).\n",
        "\n",
        "Por que isso importa?\n",
        "Ao chamar esse prompt, o sistema:\n",
        "\n",
        "Seleciona automaticamente os exemplos mais próximos do seu item atual.\n",
        "\n",
        "Insere esses pares formatados no início da conversa.\n",
        "\n",
        "Garante que o modelo receba contexto personalizado, melhorando a precisão da padronização."
      ]
    },
    {
      "cell_type": "code",
      "execution_count": 12,
      "metadata": {
        "id": "35uYI7eZeCyr"
      },
      "outputs": [],
      "source": [
        "few_shot_prompt = FewShotChatMessagePromptTemplate(\n",
        "    example_selector=example_selector,\n",
        "    example_prompt=example_prompt,\n",
        ")"
      ]
    },
    {
      "cell_type": "markdown",
      "metadata": {
        "id": "cDS-I4kjeCyr"
      },
      "source": [
        "Sistema: define o papel do modelo (“expert extraction algorithm”) e força respostas em português.\n",
        "\n",
        "Few-Shot: injeta automaticamente os 2 exemplos semânticos mais relevantes para guiar a extração.\n",
        "\n",
        "Humano: insere a descrição real do produto ({input}) para que o modelo extraia e retorne o JSON padronizado.\n",
        "\n",
        "Esse prompt une contexto, exemplos e entrada dinâmica, garantindo que o LLM entenda exatamente o papel e o formato de saída desejado."
      ]
    },
    {
      "cell_type": "code",
      "execution_count": 13,
      "metadata": {
        "id": "krB5vVYYeCyr"
      },
      "outputs": [],
      "source": [
        "prompt = ChatPromptTemplate.from_messages(\n",
        "    [\n",
        "        (\n",
        "            \"system\",\n",
        "            \"You are an expert extraction algorithm. \"\n",
        "            \"Your job is to retrieve information from the product description. \"\n",
        "            \"Answer in portuguese and in portuguese only. \"\n",
        "            \"Here are some examples on how to do this job:\\n\",\n",
        "        ),\n",
        "        few_shot_prompt,\n",
        "        (\"human\", \"{input}\"),\n",
        "    ]\n",
        ")"
      ]
    },
    {
      "cell_type": "markdown",
      "metadata": {
        "id": "G3dZgaMAeCyr"
      },
      "source": [
        "## Calling chain"
      ]
    },
    {
      "cell_type": "markdown",
      "metadata": {
        "id": "NwhDSneseCyr"
      },
      "source": [
        "O que faz: envia ao llm o prompt completo (contexto de sistema, exemplos few-shot e o nosso novo input) usando prompt.invoke, e captura o fluxo de mensagens que o modelo gera.\n",
        "\n",
        "Input de exemplo: \"DESODORANTE REXONA MAN 120ml\" um descritivo típico de produto.\n",
        "\n",
        "Output: uma lista de objetos messages contendo:\n",
        "\n",
        "A mensagem de sistema com instruções.\n",
        "\n",
        "Os exemplos selecionados e formatados.\n",
        "\n",
        "A mensagem do usuário com o input real.\n",
        "\n",
        "A resposta da IA, que virá como JSON padronizado com campos como type, primary_brand, measure, etc.\n",
        "\n",
        "Esse passo valida toda a configuração: garante que, a partir de uma descrição livre, o modelo retorne exatamente o JSON estruturado que você precisa para sua base de dados de produtos."
      ]
    },
    {
      "cell_type": "code",
      "execution_count": 14,
      "metadata": {
        "colab": {
          "base_uri": "https://localhost:8080/"
        },
        "id": "agdi4r7geCys",
        "outputId": "a80c1f15-cec6-4a57-88c9-7f5e6e173f18"
      },
      "outputs": [
        {
          "output_type": "stream",
          "name": "stderr",
          "text": [
            "ERROR:chromadb.telemetry.product.posthog:Failed to send telemetry event CollectionQueryEvent: capture() takes 1 positional argument but 3 were given\n"
          ]
        },
        {
          "output_type": "execute_result",
          "data": {
            "text/plain": [
              "[SystemMessage(content='You are an expert extraction algorithm. Your job is to retrieve information from the product description. Answer in portuguese and in portuguese only. Here are some examples on how to do this job:\\n', additional_kwargs={}, response_metadata={}),\n",
              " HumanMessage(content='DESODORANTE REXONA V8 150ML', additional_kwargs={}, response_metadata={}),\n",
              " AIMessage(content='{\"type\": \"desodorante\", \"primary_brand\": \"rexona\", \"secondary_brand\": null, \"variation\": \"v8\", \"container\": null, \"container_type\": null, \"measure\": 150.0, \"unity\": \"ml\", \"amount\": 1}', additional_kwargs={}, response_metadata={}),\n",
              " HumanMessage(content='SUCO DE UVA BORDÔ INTEGRAL 1L', additional_kwargs={}, response_metadata={}),\n",
              " AIMessage(content='{\"type\": \"suco\", \"primary_brand\": null, \"secondary_brand\": \"bordô\", \"variation\": \"integral\", \"container\": null, \"container_type\": null, \"measure\": 1.0, \"unity\": \"L\", \"amount\": 1}', additional_kwargs={}, response_metadata={}),\n",
              " HumanMessage(content='DESODORANTE REXONA MAN 120ml', additional_kwargs={}, response_metadata={})]"
            ]
          },
          "metadata": {},
          "execution_count": 14
        }
      ],
      "source": [
        "prompt.invoke({\"input\": \"DESODORANTE REXONA MAN 120ml\"}).messages"
      ]
    },
    {
      "cell_type": "markdown",
      "metadata": {
        "id": "9lbyU9wLeCys"
      },
      "source": [
        "O que faz: usa o operador | para encadear o prompt e o LLM configurado para saída estruturada.\n",
        "\n",
        "llm.with_structured_output(schema=Product): instrui o modelo a devolver diretamente um objeto do tipo Product, respeitando o schema (campos e tipos) definidos na classe.\n",
        "\n",
        "Vantagem: elimina parsing manual—você recebe instâncias de Product validadas e prontas para uso no seu fluxo de padronização."
      ]
    },
    {
      "cell_type": "code",
      "execution_count": 15,
      "metadata": {
        "id": "FgDm5g2jeCys"
      },
      "outputs": [],
      "source": [
        "chain = prompt | llm.with_structured_output(schema=Product)"
      ]
    },
    {
      "cell_type": "markdown",
      "metadata": {
        "id": "ZfEMogUXeCys"
      },
      "source": [
        "response = chain.invoke({\"input\": \"DESODORANTE REXONA MAN 120ml\"}): executa todo o fluxo (prompt + LLM com saída estruturada) e retorna um objeto Product preenchido com os campos extraídos.\n",
        "\n",
        "O response já é uma instância válida de Product, pronta para uso imediato em análises, gravação em banco ou exportação."
      ]
    },
    {
      "cell_type": "code",
      "execution_count": 16,
      "metadata": {
        "id": "FRg_jkaseCys"
      },
      "outputs": [],
      "source": [
        "response = chain.invoke({\"input\": \"DESODORANTE REXONA MAN 120ml\"})"
      ]
    },
    {
      "cell_type": "markdown",
      "metadata": {
        "id": "tU0Bnb_weCys"
      },
      "source": [
        "response.__dict__: acessa o dicionário interno do objeto Product, exibindo todos os atributos (tipo, marca, variação, medida, etc.) e seus valores extraídos.\n",
        "\n",
        "Objetivo: validar de forma rápida e legível o conteúdo da instância retornada pela pipeline, conferindo que cada campo foi preenchido conforme esperado.\n",
        "\n",
        "Uso prático: ideal para debugging ou antes de persistir os dados em um banco ou exportar para outro formato."
      ]
    },
    {
      "cell_type": "code",
      "execution_count": 17,
      "metadata": {
        "colab": {
          "base_uri": "https://localhost:8080/"
        },
        "id": "wxFU_AlCeCys",
        "outputId": "ccbbf9db-04a7-4373-d819-7eed766e8975"
      },
      "outputs": [
        {
          "output_type": "execute_result",
          "data": {
            "text/plain": [
              "{'type': 'desodorante',\n",
              " 'primary_brand': 'rexona',\n",
              " 'secondary_brand': 'man',\n",
              " 'variation': None,\n",
              " 'container': None,\n",
              " 'container_type': None,\n",
              " 'amount': 1,\n",
              " 'measure': 120.0,\n",
              " 'unity': 'ml'}"
            ]
          },
          "metadata": {},
          "execution_count": 17
        }
      ],
      "source": [
        "response.__dict__"
      ]
    },
    {
      "cell_type": "code",
      "source": [],
      "metadata": {
        "id": "hfZ16OFPhKdO"
      },
      "execution_count": null,
      "outputs": []
    }
  ],
  "metadata": {
    "kernelspec": {
      "display_name": "Python 3",
      "name": "python3"
    },
    "language_info": {
      "codemirror_mode": {
        "name": "ipython",
        "version": 3
      },
      "file_extension": ".py",
      "mimetype": "text/x-python",
      "name": "python",
      "nbconvert_exporter": "python",
      "pygments_lexer": "ipython3",
      "version": "3.12.10"
    },
    "colab": {
      "provenance": []
    }
  },
  "nbformat": 4,
  "nbformat_minor": 0
}